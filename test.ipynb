{
 "cells": [
  {
   "cell_type": "code",
   "execution_count": 1,
   "metadata": {},
   "outputs": [],
   "source": [
    "from mpl_toolkits.mplot3d import Axes3D\n",
    "from sklearn.preprocessing import StandardScaler\n",
    "import matplotlib.pyplot as plt # plotting\n",
    "import numpy as np # linear algebra\n",
    "import os # accessing directory structure\n",
    "import pandas as pd # data processing, CSV file I/O (e.g. pd.read_csv)"
   ]
  },
  {
   "cell_type": "code",
   "execution_count": 2,
   "metadata": {},
   "outputs": [
    {
     "name": "stdout",
     "output_type": "stream",
     "text": [
      "models\\t2t_vit.py\n",
      "models\\t2t_vit_dense.py\n",
      "models\\t2t_vit_ghost.py\n",
      "models\\t2t_vit_se.py\n",
      "models\\token_performer.py\n",
      "models\\token_transformer.py\n",
      "models\\transformer_block.py\n",
      "models\\__init__.py\n",
      "models\\__pycache__\\t2t_vit.cpython-311.pyc\n",
      "models\\__pycache__\\t2t_vit_dense.cpython-311.pyc\n",
      "models\\__pycache__\\t2t_vit_ghost.cpython-311.pyc\n",
      "models\\__pycache__\\t2t_vit_se.cpython-311.pyc\n",
      "models\\__pycache__\\token_performer.cpython-311.pyc\n",
      "models\\__pycache__\\token_transformer.cpython-311.pyc\n",
      "models\\__pycache__\\transformer_block.cpython-311.pyc\n",
      "models\\__pycache__\\__init__.cpython-311.pyc\n"
     ]
    }
   ],
   "source": [
    "for dirname, _, filenames in os.walk('models'):\n",
    "    for filename in filenames:\n",
    "        print(os.path.join(dirname, filename))"
   ]
  },
  {
   "cell_type": "code",
   "execution_count": 3,
   "metadata": {},
   "outputs": [],
   "source": [
    "def load_state_dict(checkpoint_path, use_ema=False, num_classes=1000):\n",
    "    if checkpoint_path and os.path.isfile(checkpoint_path):\n",
    "        checkpoint = torch.load(checkpoint_path, map_location='cpu')\n",
    "        state_dict_key = 'state_dict'\n",
    "        if isinstance(checkpoint, dict):\n",
    "            if use_ema and 'state_dict_ema' in checkpoint:\n",
    "                state_dict_key = 'state_dict_ema'\n",
    "        if state_dict_key and state_dict_key in checkpoint:\n",
    "            new_state_dict = OrderedDict()\n",
    "            for k, v in checkpoint[state_dict_key].items():\n",
    "                # strip `module.` prefix\n",
    "                name = k[7:] if k.startswith('module') else k\n",
    "                new_state_dict[name] = v\n",
    "            state_dict = new_state_dict\n",
    "        else:\n",
    "            state_dict = checkpoint\n",
    "#         _logger.info(\"Loaded {} from checkpoint '{}'\".format(state_dict_key, checkpoint_path))\n",
    "#         if num_classes != 1000:\n",
    "#             # completely discard fully connected for all other differences between pretrained and created model\n",
    "#             del state_dict['head' + '.weight']\n",
    "#             del state_dict['head' + '.bias']\n",
    "\n",
    "        return state_dict\n",
    "    else:\n",
    "#         _logger.error(\"No checkpoint found at '{}'\".format(checkpoint_path))\n",
    "        raise FileNotFoundError()\n",
    "\n",
    "\n",
    "def load_for_transfer_learning(model, checkpoint_path, use_ema=False, strict=False, num_classes=1000):\n",
    "    state_dict = load_state_dict(checkpoint_path, use_ema, num_classes)\n",
    "    model.load_state_dict(state_dict, strict=strict)"
   ]
  },
  {
   "cell_type": "code",
   "execution_count": 6,
   "metadata": {},
   "outputs": [],
   "source": [
    "import torch"
   ]
  },
  {
   "cell_type": "code",
   "execution_count": 8,
   "metadata": {},
   "outputs": [
    {
     "name": "stderr",
     "output_type": "stream",
     "text": [
      "C:\\Users\\Administrator\\AppData\\Local\\Temp\\ipykernel_20028\\1164165959.py:1: FutureWarning: You are using `torch.load` with `weights_only=False` (the current default value), which uses the default pickle module implicitly. It is possible to construct malicious pickle data which will execute arbitrary code during unpickling (See https://github.com/pytorch/pytorch/blob/main/SECURITY.md#untrusted-models for more details). In a future release, the default value for `weights_only` will be flipped to `True`. This limits the functions that could be executed during unpickling. Arbitrary objects will no longer be allowed to be loaded via this mode unless they are explicitly allowlisted by the user via `torch.serialization.add_safe_globals`. We recommend you start setting `weights_only=True` for any use case where you don't have full control of the loaded file. Please open an issue on GitHub for any issues related to this experimental feature.\n",
      "  stat = torch.load('80.7_T2T_ViT_t_14.pth.tar')\n"
     ]
    },
    {
     "ename": "KeyError",
     "evalue": "'state_dict_ema'",
     "output_type": "error",
     "traceback": [
      "\u001b[1;31m---------------------------------------------------------------------------\u001b[0m",
      "\u001b[1;31mKeyError\u001b[0m                                  Traceback (most recent call last)",
      "Cell \u001b[1;32mIn[8], line 8\u001b[0m\n\u001b[0;32m      5\u001b[0m     \u001b[38;5;28;01mdel\u001b[39;00m stat[\u001b[38;5;124m'\u001b[39m\u001b[38;5;124mstate_dict_ema\u001b[39m\u001b[38;5;124m'\u001b[39m][\u001b[38;5;124m'\u001b[39m\u001b[38;5;124mhead.weight\u001b[39m\u001b[38;5;124m'\u001b[39m]\n\u001b[0;32m      6\u001b[0m     \u001b[38;5;28;01mdel\u001b[39;00m stat[\u001b[38;5;124m'\u001b[39m\u001b[38;5;124mstate_dict_ema\u001b[39m\u001b[38;5;124m'\u001b[39m][\u001b[38;5;124m'\u001b[39m\u001b[38;5;124mhead.bias\u001b[39m\u001b[38;5;124m'\u001b[39m]\n\u001b[1;32m----> 8\u001b[0m torch\u001b[38;5;241m.\u001b[39msave(\u001b[43mstat\u001b[49m\u001b[43m[\u001b[49m\u001b[38;5;124;43m'\u001b[39;49m\u001b[38;5;124;43mstate_dict_ema\u001b[39;49m\u001b[38;5;124;43m'\u001b[39;49m\u001b[43m]\u001b[49m,\u001b[38;5;124m'\u001b[39m\u001b[38;5;124m80.7_T2T_ViT_t_14.pth.tar\u001b[39m\u001b[38;5;124m'\u001b[39m)\n",
      "\u001b[1;31mKeyError\u001b[0m: 'state_dict_ema'"
     ]
    }
   ],
   "source": [
    "stat = torch.load('80.7_T2T_ViT_t_14.pth.tar')\n",
    "\n",
    "# check if state_dict_ema exists if so del\n",
    "if 'state_dict_ema' in stat:\n",
    "    del stat['state_dict_ema']['head.weight']\n",
    "    del stat['state_dict_ema']['head.bias']\n",
    "\n",
    "torch.save(stat['state_dict_ema'],'80.7_T2T_ViT_t_14.pth.tar')"
   ]
  },
  {
   "cell_type": "code",
   "execution_count": null,
   "metadata": {},
   "outputs": [],
   "source": [
    "from models.t2t_vit import *\n",
    "# create model\n",
    "model = T2t_vit_14(img_size=224, num_classes=12)\n",
    "# load_for_transfer_learning(model, '80.7_T2T_ViT_t_14.pth.tar', num_classes=12)"
   ]
  }
 ],
 "metadata": {
  "kernelspec": {
   "display_name": "cv",
   "language": "python",
   "name": "python3"
  },
  "language_info": {
   "codemirror_mode": {
    "name": "ipython",
    "version": 3
   },
   "file_extension": ".py",
   "mimetype": "text/x-python",
   "name": "python",
   "nbconvert_exporter": "python",
   "pygments_lexer": "ipython3",
   "version": "3.11.10"
  }
 },
 "nbformat": 4,
 "nbformat_minor": 2
}
